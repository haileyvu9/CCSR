{
 "cells": [
  {
   "cell_type": "code",
   "execution_count": 123,
   "id": "de0e7908",
   "metadata": {},
   "outputs": [],
   "source": [
    "import numpy as np \n",
    "import math \n",
    "import pandas as pd\n",
    "import matplotlib.pyplot as plt\n",
    "from scipy.optimize import minimize\n",
    "import scipy.integrate as integrate"
   ]
  },
  {
   "cell_type": "code",
   "execution_count": 124,
   "id": "d1499990",
   "metadata": {},
   "outputs": [
    {
     "data": {
      "text/html": [
       "<div>\n",
       "<style scoped>\n",
       "    .dataframe tbody tr th:only-of-type {\n",
       "        vertical-align: middle;\n",
       "    }\n",
       "\n",
       "    .dataframe tbody tr th {\n",
       "        vertical-align: top;\n",
       "    }\n",
       "\n",
       "    .dataframe thead th {\n",
       "        text-align: right;\n",
       "    }\n",
       "</style>\n",
       "<table border=\"1\" class=\"dataframe\">\n",
       "  <thead>\n",
       "    <tr style=\"text-align: right;\">\n",
       "      <th></th>\n",
       "      <th>Maturity</th>\n",
       "      <th>CDS_rate</th>\n",
       "    </tr>\n",
       "  </thead>\n",
       "  <tbody>\n",
       "    <tr>\n",
       "      <th>0</th>\n",
       "      <td>0</td>\n",
       "      <td>NaN</td>\n",
       "    </tr>\n",
       "    <tr>\n",
       "      <th>1</th>\n",
       "      <td>1</td>\n",
       "      <td>100.0</td>\n",
       "    </tr>\n",
       "    <tr>\n",
       "      <th>2</th>\n",
       "      <td>3</td>\n",
       "      <td>110.0</td>\n",
       "    </tr>\n",
       "    <tr>\n",
       "      <th>3</th>\n",
       "      <td>5</td>\n",
       "      <td>120.0</td>\n",
       "    </tr>\n",
       "    <tr>\n",
       "      <th>4</th>\n",
       "      <td>7</td>\n",
       "      <td>120.0</td>\n",
       "    </tr>\n",
       "    <tr>\n",
       "      <th>5</th>\n",
       "      <td>10</td>\n",
       "      <td>125.0</td>\n",
       "    </tr>\n",
       "  </tbody>\n",
       "</table>\n",
       "</div>"
      ],
      "text/plain": [
       "   Maturity  CDS_rate\n",
       "0         0       NaN\n",
       "1         1     100.0\n",
       "2         3     110.0\n",
       "3         5     120.0\n",
       "4         7     120.0\n",
       "5        10     125.0"
      ]
     },
     "execution_count": 124,
     "metadata": {},
     "output_type": "execute_result"
    }
   ],
   "source": [
    "data_1 = {\n",
    "    'Maturity': [0, 1, 3, 5, 7, 10],\n",
    "    'CDS_rate': [np.nan, 100, 110, 120, 120, 125]\n",
    "}\n",
    "cds_rate = pd.DataFrame(data_1)\n",
    "cds_rate"
   ]
  },
  {
   "cell_type": "markdown",
   "id": "eef48a8c",
   "metadata": {},
   "source": [
    "# Question 1"
   ]
  },
  {
   "cell_type": "code",
   "execution_count": 135,
   "id": "7a2a9a02",
   "metadata": {},
   "outputs": [],
   "source": [
    "def average_hazard_rate(cds_rate):\n",
    "    return cds_rate / LGD / 10000"
   ]
  },
  {
   "cell_type": "code",
   "execution_count": 136,
   "id": "95672084",
   "metadata": {},
   "outputs": [],
   "source": [
    "def survival_prob(maturity, average_hazard_rate):\n",
    "    return np.exp(-average_hazard_rate * maturity)"
   ]
  },
  {
   "cell_type": "code",
   "execution_count": 137,
   "id": "03083722",
   "metadata": {},
   "outputs": [
    {
     "data": {
      "text/html": [
       "<div>\n",
       "<style scoped>\n",
       "    .dataframe tbody tr th:only-of-type {\n",
       "        vertical-align: middle;\n",
       "    }\n",
       "\n",
       "    .dataframe tbody tr th {\n",
       "        vertical-align: top;\n",
       "    }\n",
       "\n",
       "    .dataframe thead th {\n",
       "        text-align: right;\n",
       "    }\n",
       "</style>\n",
       "<table border=\"1\" class=\"dataframe\">\n",
       "  <thead>\n",
       "    <tr style=\"text-align: right;\">\n",
       "      <th></th>\n",
       "      <th>Maturity</th>\n",
       "      <th>Average lamda</th>\n",
       "    </tr>\n",
       "  </thead>\n",
       "  <tbody>\n",
       "    <tr>\n",
       "      <th>0</th>\n",
       "      <td>0</td>\n",
       "      <td>NaN</td>\n",
       "    </tr>\n",
       "    <tr>\n",
       "      <th>1</th>\n",
       "      <td>1</td>\n",
       "      <td>0.02500</td>\n",
       "    </tr>\n",
       "    <tr>\n",
       "      <th>2</th>\n",
       "      <td>3</td>\n",
       "      <td>0.02750</td>\n",
       "    </tr>\n",
       "    <tr>\n",
       "      <th>3</th>\n",
       "      <td>5</td>\n",
       "      <td>0.03000</td>\n",
       "    </tr>\n",
       "    <tr>\n",
       "      <th>4</th>\n",
       "      <td>7</td>\n",
       "      <td>0.03000</td>\n",
       "    </tr>\n",
       "    <tr>\n",
       "      <th>5</th>\n",
       "      <td>10</td>\n",
       "      <td>0.03125</td>\n",
       "    </tr>\n",
       "  </tbody>\n",
       "</table>\n",
       "</div>"
      ],
      "text/plain": [
       "   Maturity  Average lamda\n",
       "0         0            NaN\n",
       "1         1        0.02500\n",
       "2         3        0.02750\n",
       "3         5        0.03000\n",
       "4         7        0.03000\n",
       "5        10        0.03125"
      ]
     },
     "execution_count": 137,
     "metadata": {},
     "output_type": "execute_result"
    }
   ],
   "source": [
    "LGD = 0.4\n",
    "h_rate = []\n",
    "\n",
    "for i in range(cds_rate.shape[0]):\n",
    "    maturity = cds_rate['Maturity'].iloc[i] \n",
    "    cds_rate_value = cds_rate['CDS_rate'].iloc[i]  \n",
    "    average_hazard_rate_value = average_hazard_rate(cds_rate_value)\n",
    "    h_rate.append({'Maturity': maturity, 'Average lamda': average_hazard_rate_value})\n",
    "\n",
    "h_rate_df = pd.DataFrame(h_rate)\n",
    "h_rate_df"
   ]
  },
  {
   "cell_type": "code",
   "execution_count": 138,
   "id": "dd25a7c3",
   "metadata": {},
   "outputs": [],
   "source": [
    "h_rate_df['Q(t>T)'] = survival_prob(h_rate_df['Maturity'], h_rate_df['Average lamda'])\n",
    "h_rate_df.iloc[0, 2] = 1"
   ]
  },
  {
   "cell_type": "code",
   "execution_count": 139,
   "id": "cb330284",
   "metadata": {},
   "outputs": [],
   "source": [
    "h_rate_df['fwd_h_rate'] = 0\n",
    "for i in range(1, h_rate_df.shape[0]):\n",
    "    h_rate_df.loc[i, 'fwd_h_rate'] = -np.log(h_rate_df.loc[i, 'Q(t>T)'] / h_rate_df.loc[i - 1, 'Q(t>T)'])\\\n",
    "    / (h_rate_df.loc[i, 'Maturity'] - h_rate_df.loc[i - 1, 'Maturity'])       "
   ]
  },
  {
   "cell_type": "code",
   "execution_count": 141,
   "id": "0be84026",
   "metadata": {},
   "outputs": [],
   "source": [
    "h_rate_df['default_prob'] = 0\n",
    "for i in range(1, h_rate_df.shape[0]):\n",
    "    h_rate_df.loc[i, 'default_prob'] = h_rate_df.loc[i - 1, 'Q(t>T)'] - h_rate_df.loc[i, 'Q(t>T)']\n"
   ]
  },
  {
   "cell_type": "code",
   "execution_count": 142,
   "id": "cd39de83",
   "metadata": {},
   "outputs": [
    {
     "data": {
      "text/html": [
       "<div>\n",
       "<style scoped>\n",
       "    .dataframe tbody tr th:only-of-type {\n",
       "        vertical-align: middle;\n",
       "    }\n",
       "\n",
       "    .dataframe tbody tr th {\n",
       "        vertical-align: top;\n",
       "    }\n",
       "\n",
       "    .dataframe thead th {\n",
       "        text-align: right;\n",
       "    }\n",
       "</style>\n",
       "<table border=\"1\" class=\"dataframe\">\n",
       "  <thead>\n",
       "    <tr style=\"text-align: right;\">\n",
       "      <th></th>\n",
       "      <th>Maturity</th>\n",
       "      <th>Average lamda</th>\n",
       "      <th>Q(t&gt;T)</th>\n",
       "      <th>fwd_h_rate</th>\n",
       "      <th>default_prob</th>\n",
       "    </tr>\n",
       "  </thead>\n",
       "  <tbody>\n",
       "    <tr>\n",
       "      <th>0</th>\n",
       "      <td>0</td>\n",
       "      <td>NaN</td>\n",
       "      <td>1.000000</td>\n",
       "      <td>0.000000</td>\n",
       "      <td>0.000000</td>\n",
       "    </tr>\n",
       "    <tr>\n",
       "      <th>1</th>\n",
       "      <td>1</td>\n",
       "      <td>0.02500</td>\n",
       "      <td>0.975310</td>\n",
       "      <td>0.025000</td>\n",
       "      <td>0.024690</td>\n",
       "    </tr>\n",
       "    <tr>\n",
       "      <th>2</th>\n",
       "      <td>3</td>\n",
       "      <td>0.02750</td>\n",
       "      <td>0.920811</td>\n",
       "      <td>0.028750</td>\n",
       "      <td>0.054498</td>\n",
       "    </tr>\n",
       "    <tr>\n",
       "      <th>3</th>\n",
       "      <td>5</td>\n",
       "      <td>0.03000</td>\n",
       "      <td>0.860708</td>\n",
       "      <td>0.033750</td>\n",
       "      <td>0.060103</td>\n",
       "    </tr>\n",
       "    <tr>\n",
       "      <th>4</th>\n",
       "      <td>7</td>\n",
       "      <td>0.03000</td>\n",
       "      <td>0.810584</td>\n",
       "      <td>0.030000</td>\n",
       "      <td>0.050124</td>\n",
       "    </tr>\n",
       "    <tr>\n",
       "      <th>5</th>\n",
       "      <td>10</td>\n",
       "      <td>0.03125</td>\n",
       "      <td>0.731616</td>\n",
       "      <td>0.034167</td>\n",
       "      <td>0.078969</td>\n",
       "    </tr>\n",
       "  </tbody>\n",
       "</table>\n",
       "</div>"
      ],
      "text/plain": [
       "   Maturity  Average lamda    Q(t>T)  fwd_h_rate  default_prob\n",
       "0         0            NaN  1.000000    0.000000      0.000000\n",
       "1         1        0.02500  0.975310    0.025000      0.024690\n",
       "2         3        0.02750  0.920811    0.028750      0.054498\n",
       "3         5        0.03000  0.860708    0.033750      0.060103\n",
       "4         7        0.03000  0.810584    0.030000      0.050124\n",
       "5        10        0.03125  0.731616    0.034167      0.078969"
      ]
     },
     "execution_count": 142,
     "metadata": {},
     "output_type": "execute_result"
    }
   ],
   "source": [
    "h_rate_df"
   ]
  },
  {
   "cell_type": "markdown",
   "id": "0d1801c6",
   "metadata": {},
   "source": [
    "# Question 2"
   ]
  },
  {
   "cell_type": "code",
   "execution_count": null,
   "id": "9866697c",
   "metadata": {},
   "outputs": [],
   "source": []
  },
  {
   "cell_type": "code",
   "execution_count": null,
   "id": "1e8f51f7",
   "metadata": {},
   "outputs": [],
   "source": []
  },
  {
   "cell_type": "code",
   "execution_count": null,
   "id": "79e4cbd1",
   "metadata": {},
   "outputs": [],
   "source": []
  },
  {
   "cell_type": "code",
   "execution_count": null,
   "id": "9d98b167",
   "metadata": {},
   "outputs": [],
   "source": []
  }
 ],
 "metadata": {
  "kernelspec": {
   "display_name": "Python 3 (ipykernel)",
   "language": "python",
   "name": "python3"
  },
  "language_info": {
   "codemirror_mode": {
    "name": "ipython",
    "version": 3
   },
   "file_extension": ".py",
   "mimetype": "text/x-python",
   "name": "python",
   "nbconvert_exporter": "python",
   "pygments_lexer": "ipython3",
   "version": "3.11.3"
  }
 },
 "nbformat": 4,
 "nbformat_minor": 5
}
